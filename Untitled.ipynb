{
 "cells": [
  {
   "cell_type": "markdown",
   "id": "523af37c-e382-440e-8601-44ba6f4f76a6",
   "metadata": {},
   "source": [
    "# <en><center>Predicting Value with number of rooms </center></en>"
   ]
  },
  {
   "cell_type": "markdown",
   "id": "de6649ed-77af-47a4-8d87-c0211cb702ef",
   "metadata": {},
   "source": [
    "## <en><center>Frantz Alexander</center></en>"
   ]
  },
  {
   "cell_type": "markdown",
   "id": "18bbdc11-4832-4a1a-94a6-933e49243883",
   "metadata": {},
   "source": [
    "#### <en><center>December 28, 2022</center></en>"
   ]
  },
  {
   "cell_type": "markdown",
   "id": "7aab9d96-00d9-48fd-980a-ce788c2275d4",
   "metadata": {},
   "source": [
    "## <en><center>Libraries</center></en>"
   ]
  },
  {
   "cell_type": "code",
   "execution_count": 3,
   "id": "b1585304-847c-4cce-9eaa-d8b911fd1af8",
   "metadata": {},
   "outputs": [],
   "source": [
    "import numpy as np\n",
    "import pandas as pd\n",
    "import matplotlib.pyplot as plt\n",
    "import seaborn as sns\n",
    "import plotly.express as px\n",
    "\n",
    "from sklearn.model_selection import train_test_split\n",
    "from sklearn.metrics import mean_absolute_error\n",
    "from sklearn.linear_model import LinearRegression\n"
   ]
  },
  {
   "cell_type": "markdown",
   "id": "bfd98a16-3c05-4ba8-a712-93172caa9a45",
   "metadata": {},
   "source": [
    "# <en><center>Data Preparation</center></en>"
   ]
  },
  {
   "cell_type": "code",
   "execution_count": 2,
   "id": "80a49bde-bb6e-4f51-9543-2a2bc3e8877c",
   "metadata": {},
   "outputs": [],
   "source": [
    "def wrangle(filepath):\n",
    "    df = pd.read_csv(filepath)\n",
    "    \n",
    "    return df"
   ]
  },
  {
   "cell_type": "code",
   "execution_count": 4,
   "id": "c7b4fdd1-02f9-4df8-9bf6-00320d045937",
   "metadata": {},
   "outputs": [],
   "source": [
    "df = wrangle(\"California_Houses.csv\")"
   ]
  },
  {
   "cell_type": "code",
   "execution_count": 5,
   "id": "4ad3a104-612d-4170-810a-6c7b8ba9df83",
   "metadata": {},
   "outputs": [
    {
     "name": "stdout",
     "output_type": "stream",
     "text": [
      "<class 'pandas.core.frame.DataFrame'>\n",
      "RangeIndex: 20640 entries, 0 to 20639\n",
      "Data columns (total 14 columns):\n",
      " #   Column                    Non-Null Count  Dtype  \n",
      "---  ------                    --------------  -----  \n",
      " 0   Median_House_Value        20640 non-null  float64\n",
      " 1   Median_Income             20640 non-null  float64\n",
      " 2   Median_Age                20640 non-null  int64  \n",
      " 3   Tot_Rooms                 20640 non-null  int64  \n",
      " 4   Tot_Bedrooms              20640 non-null  int64  \n",
      " 5   Population                20640 non-null  int64  \n",
      " 6   Households                20640 non-null  int64  \n",
      " 7   Latitude                  20640 non-null  float64\n",
      " 8   Longitude                 20640 non-null  float64\n",
      " 9   Distance_to_coast         20640 non-null  float64\n",
      " 10  Distance_to_LA            20640 non-null  float64\n",
      " 11  Distance_to_SanDiego      20640 non-null  float64\n",
      " 12  Distance_to_SanJose       20640 non-null  float64\n",
      " 13  Distance_to_SanFrancisco  20640 non-null  float64\n",
      "dtypes: float64(9), int64(5)\n",
      "memory usage: 2.2 MB\n"
     ]
    },
    {
     "data": {
      "text/html": [
       "<div>\n",
       "<style scoped>\n",
       "    .dataframe tbody tr th:only-of-type {\n",
       "        vertical-align: middle;\n",
       "    }\n",
       "\n",
       "    .dataframe tbody tr th {\n",
       "        vertical-align: top;\n",
       "    }\n",
       "\n",
       "    .dataframe thead th {\n",
       "        text-align: right;\n",
       "    }\n",
       "</style>\n",
       "<table border=\"1\" class=\"dataframe\">\n",
       "  <thead>\n",
       "    <tr style=\"text-align: right;\">\n",
       "      <th></th>\n",
       "      <th>Median_House_Value</th>\n",
       "      <th>Median_Income</th>\n",
       "      <th>Median_Age</th>\n",
       "      <th>Tot_Rooms</th>\n",
       "      <th>Tot_Bedrooms</th>\n",
       "      <th>Population</th>\n",
       "      <th>Households</th>\n",
       "      <th>Latitude</th>\n",
       "      <th>Longitude</th>\n",
       "      <th>Distance_to_coast</th>\n",
       "      <th>Distance_to_LA</th>\n",
       "      <th>Distance_to_SanDiego</th>\n",
       "      <th>Distance_to_SanJose</th>\n",
       "      <th>Distance_to_SanFrancisco</th>\n",
       "    </tr>\n",
       "  </thead>\n",
       "  <tbody>\n",
       "    <tr>\n",
       "      <th>0</th>\n",
       "      <td>452600.0</td>\n",
       "      <td>8.3252</td>\n",
       "      <td>41</td>\n",
       "      <td>880</td>\n",
       "      <td>129</td>\n",
       "      <td>322</td>\n",
       "      <td>126</td>\n",
       "      <td>37.88</td>\n",
       "      <td>-122.23</td>\n",
       "      <td>9263.040773</td>\n",
       "      <td>556529.158342</td>\n",
       "      <td>735501.806984</td>\n",
       "      <td>67432.517001</td>\n",
       "      <td>21250.213767</td>\n",
       "    </tr>\n",
       "    <tr>\n",
       "      <th>1</th>\n",
       "      <td>358500.0</td>\n",
       "      <td>8.3014</td>\n",
       "      <td>21</td>\n",
       "      <td>7099</td>\n",
       "      <td>1106</td>\n",
       "      <td>2401</td>\n",
       "      <td>1138</td>\n",
       "      <td>37.86</td>\n",
       "      <td>-122.22</td>\n",
       "      <td>10225.733072</td>\n",
       "      <td>554279.850069</td>\n",
       "      <td>733236.884360</td>\n",
       "      <td>65049.908574</td>\n",
       "      <td>20880.600400</td>\n",
       "    </tr>\n",
       "    <tr>\n",
       "      <th>2</th>\n",
       "      <td>352100.0</td>\n",
       "      <td>7.2574</td>\n",
       "      <td>52</td>\n",
       "      <td>1467</td>\n",
       "      <td>190</td>\n",
       "      <td>496</td>\n",
       "      <td>177</td>\n",
       "      <td>37.85</td>\n",
       "      <td>-122.24</td>\n",
       "      <td>8259.085109</td>\n",
       "      <td>554610.717069</td>\n",
       "      <td>733525.682937</td>\n",
       "      <td>64867.289833</td>\n",
       "      <td>18811.487450</td>\n",
       "    </tr>\n",
       "    <tr>\n",
       "      <th>3</th>\n",
       "      <td>341300.0</td>\n",
       "      <td>5.6431</td>\n",
       "      <td>52</td>\n",
       "      <td>1274</td>\n",
       "      <td>235</td>\n",
       "      <td>558</td>\n",
       "      <td>219</td>\n",
       "      <td>37.85</td>\n",
       "      <td>-122.25</td>\n",
       "      <td>7768.086571</td>\n",
       "      <td>555194.266086</td>\n",
       "      <td>734095.290744</td>\n",
       "      <td>65287.138412</td>\n",
       "      <td>18031.047568</td>\n",
       "    </tr>\n",
       "    <tr>\n",
       "      <th>4</th>\n",
       "      <td>342200.0</td>\n",
       "      <td>3.8462</td>\n",
       "      <td>52</td>\n",
       "      <td>1627</td>\n",
       "      <td>280</td>\n",
       "      <td>565</td>\n",
       "      <td>259</td>\n",
       "      <td>37.85</td>\n",
       "      <td>-122.25</td>\n",
       "      <td>7768.086571</td>\n",
       "      <td>555194.266086</td>\n",
       "      <td>734095.290744</td>\n",
       "      <td>65287.138412</td>\n",
       "      <td>18031.047568</td>\n",
       "    </tr>\n",
       "  </tbody>\n",
       "</table>\n",
       "</div>"
      ],
      "text/plain": [
       "   Median_House_Value  Median_Income  Median_Age  Tot_Rooms  Tot_Bedrooms  \\\n",
       "0            452600.0         8.3252          41        880           129   \n",
       "1            358500.0         8.3014          21       7099          1106   \n",
       "2            352100.0         7.2574          52       1467           190   \n",
       "3            341300.0         5.6431          52       1274           235   \n",
       "4            342200.0         3.8462          52       1627           280   \n",
       "\n",
       "   Population  Households  Latitude  Longitude  Distance_to_coast  \\\n",
       "0         322         126     37.88    -122.23        9263.040773   \n",
       "1        2401        1138     37.86    -122.22       10225.733072   \n",
       "2         496         177     37.85    -122.24        8259.085109   \n",
       "3         558         219     37.85    -122.25        7768.086571   \n",
       "4         565         259     37.85    -122.25        7768.086571   \n",
       "\n",
       "   Distance_to_LA  Distance_to_SanDiego  Distance_to_SanJose  \\\n",
       "0   556529.158342         735501.806984         67432.517001   \n",
       "1   554279.850069         733236.884360         65049.908574   \n",
       "2   554610.717069         733525.682937         64867.289833   \n",
       "3   555194.266086         734095.290744         65287.138412   \n",
       "4   555194.266086         734095.290744         65287.138412   \n",
       "\n",
       "   Distance_to_SanFrancisco  \n",
       "0              21250.213767  \n",
       "1              20880.600400  \n",
       "2              18811.487450  \n",
       "3              18031.047568  \n",
       "4              18031.047568  "
      ]
     },
     "execution_count": 5,
     "metadata": {},
     "output_type": "execute_result"
    }
   ],
   "source": [
    "df.info()\n",
    "df.head()"
   ]
  },
  {
   "cell_type": "markdown",
   "id": "d20139cf-156f-4b16-9379-a337af5632c7",
   "metadata": {},
   "source": [
    "---"
   ]
  },
  {
   "cell_type": "markdown",
   "id": "fc6239e5-0950-4f58-84d5-5b7a3b6c9df8",
   "metadata": {},
   "source": [
    "## Explore"
   ]
  },
  {
   "cell_type": "code",
   "execution_count": 6,
   "id": "dd3b41f6-e372-433a-806b-e226424199aa",
   "metadata": {},
   "outputs": [
    {
     "data": {
      "text/plain": [
       "Text(0, 0.5, 'Frequency')"
      ]
     },
     "execution_count": 6,
     "metadata": {},
     "output_type": "execute_result"
    },
    {
     "data": {
      "image/png": "[encoded data removed]",
      "text/plain": [
       "<Figure size 640x480 with 1 Axes>"
      ]
     },
     "metadata": {},
     "output_type": "display_data"
    }
   ],
   "source": [
    "plt.hist(df[\"Tot_Rooms\"])\n",
    "plt.xlabel(\"Number of Rooms\")\n",
    "plt.ylabel(\"Frequency\")"
   ]
  },
  {
   "cell_type": "code",
   "execution_count": 7,
   "id": "4213d288-9318-4c3a-8089-57f24269cd92",
   "metadata": {},
   "outputs": [
    {
     "data": {
      "text/plain": [
       "count    20640.000000\n",
       "mean      2635.763081\n",
       "std       2181.615252\n",
       "min          2.000000\n",
       "25%       1447.750000\n",
       "50%       2127.000000\n",
       "75%       3148.000000\n",
       "max      39320.000000\n",
       "Name: Tot_Rooms, dtype: float64"
      ]
     },
     "execution_count": 7,
     "metadata": {},
     "output_type": "execute_result"
    }
   ],
   "source": [
    "df[\"Tot_Rooms\"].describe()"
   ]
  },
  {
   "cell_type": "code",
   "execution_count": null,
   "id": "a4bf215c-e47d-4e83-8d0c-42661816520e",
   "metadata": {},
   "outputs": [],
   "source": []
  }
 ],
 "metadata": {
  "kernelspec": {
   "display_name": "Python 3 (ipykernel)",
   "language": "python",
   "name": "python3"
  },
  "language_info": {
   "codemirror_mode": {
    "name": "ipython",
    "version": 3
   },
   "file_extension": ".py",
   "mimetype": "text/x-python",
   "name": "python",
   "nbconvert_exporter": "python",
   "pygments_lexer": "ipython3",
   "version": "3.11.0"
  }
 },
 "nbformat": 4,
 "nbformat_minor": 5
}
